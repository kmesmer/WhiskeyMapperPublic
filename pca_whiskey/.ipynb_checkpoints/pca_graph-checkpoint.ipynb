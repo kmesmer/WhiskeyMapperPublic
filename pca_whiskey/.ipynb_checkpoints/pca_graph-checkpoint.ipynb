{
 "cells": [
  {
   "cell_type": "code",
   "execution_count": null,
   "metadata": {
    "scrolled": true
   },
   "outputs": [],
   "source": [
    "import pandas as pd \n",
    "import numpy as np\n",
    "import matplotlib.pyplot as plt\n",
    "import plotly.express as px\n",
    "\n",
    "df = pd.read_csv(\"pca.csv\", index_col=0)\n",
    "\n",
    "types = df[\"type\"]\n",
    "\n",
    "df.drop(columns=\"type\", axis=1)\n",
    "\n",
    "fig = px.scatter_3d(df, x=\"Component 1\", y=\"Component 2\", z=\"Component 3\", color=types, hover_name=df.index)\n",
    "\n",
    "fig.show()"
   ]
  }
 ],
 "metadata": {
  "kernelspec": {
   "display_name": "Python 3",
   "language": "python",
   "name": "python3"
  },
  "language_info": {
   "codemirror_mode": {
    "name": "ipython",
    "version": 3
   },
   "file_extension": ".py",
   "mimetype": "text/x-python",
   "name": "python",
   "nbconvert_exporter": "python",
   "pygments_lexer": "ipython3",
   "version": "3.6.8"
  }
 },
 "nbformat": 4,
 "nbformat_minor": 2
}
